{
 "cells": [
  {
   "cell_type": "markdown",
   "metadata": {},
   "source": [
    "# WEB Scraping"
   ]
  },
  {
   "cell_type": "code",
   "execution_count": 11,
   "metadata": {},
   "outputs": [
    {
     "data": {
      "text/plain": [
       "True"
      ]
     },
     "execution_count": 11,
     "metadata": {},
     "output_type": "execute_result"
    }
   ],
   "source": [
    "import os\n",
    "from dotenv import load_dotenv\n",
    "from pathlib import Path  # Python 3.6+ only\n",
    "env_path = Path('./ATB/UTI.env')\n",
    "load_dotenv(dotenv_path=env_path, verbose=True)"
   ]
  },
  {
   "cell_type": "code",
   "execution_count": 13,
   "metadata": {},
   "outputs": [],
   "source": [
    "# you must specify an environment file where HOME_UTI and HOME_CHROMEDRIVER are specified\n",
    "HOME_UTI = os.environ.get(\"HOME_UTI\")\n",
    "HOME_CHROMEDRIVER = os.environ.get(\"HOME_CHROMEDRIVER\")"
   ]
  },
  {
   "cell_type": "code",
   "execution_count": 16,
   "metadata": {},
   "outputs": [
    {
     "name": "stderr",
     "output_type": "stream",
     "text": [
      "<ipython-input-16-a14bb1805981>:9: DeprecationWarning: executable_path has been deprecated, please pass in a Service object\n",
      "  driver = webdriver.Chrome(executable_path=f\"{HOME_CHROMEDRIVER}/CHROME_DRIVER/chromedriver\")\n"
     ]
    }
   ],
   "source": [
    "from selenium import webdriver\n",
    "from selenium.webdriver.common.keys import Keys\n",
    "import tqdm\n",
    "import time\n",
    "import requests\n",
    "import os\n",
    "\n",
    "# Chrome driver path (selenium)\n",
    "driver = webdriver.Chrome(executable_path=f\"{HOME_CHROMEDRIVER}/CHROME_DRIVER/chromedriver\")"
   ]
  },
  {
   "cell_type": "code",
   "execution_count": 17,
   "metadata": {},
   "outputs": [],
   "source": [
    "# identified open links (/index) \n",
    "links = [\"https://courses.washington.edu/medch561/pdf_text/\", \n",
    "         \"https://courses.washington.edu/medch561/pdf_text/pdf_archive/\"]"
   ]
  },
  {
   "cell_type": "code",
   "execution_count": 20,
   "metadata": {},
   "outputs": [],
   "source": [
    "# retrieve all documents and save them to disk\n",
    "all_links = []\n",
    "for link in links:\n",
    "    driver.get(link)\n",
    "    # xpath for an /index.html page\n",
    "    typical_xpath = \"/html/body/table/tbody/tr[*]/td[2]/a\"\n",
    "    # list of extensions\n",
    "    extensions = [\"pdf\",\"doc\",\"docx\",\"ppt\",\"pptx\",\"png\",\"jpg\",\"jpeg\",\"ppt\"]\n",
    "    # snippet to retrieve all_links\n",
    "    all_links += [el.get_attribute(\"href\") for el in driver.find_elements_by_xpath(typical_xpath) \\\n",
    "                 if el.get_attribute(\"href\").split(\".\")[-1] in extensions ]"
   ]
  },
  {
   "cell_type": "code",
   "execution_count": 24,
   "metadata": {},
   "outputs": [],
   "source": [
    "# create the folder ATB if needed\n",
    "try:\n",
    "    os.chdir(HOME_UTI)\n",
    "except:\n",
    "    os.makedirs(f\"{HOME_UTI}\", exist_ok=True)\n",
    "    os.chdir(f\"{HOME_UTI}\")"
   ]
  },
  {
   "cell_type": "code",
   "execution_count": null,
   "metadata": {},
   "outputs": [
    {
     "name": "stderr",
     "output_type": "stream",
     "text": [
      " 19%|█▉        | 35/184 [01:14<06:35,  2.66s/it]"
     ]
    }
   ],
   "source": [
    "# iterate over the links\n",
    "for link in tqdm.tqdm(all_links):\n",
    "    time.sleep(1)\n",
    "    # download the links as is in the ATB folder\n",
    "    r = requests.get(link, allow_redirects=True)\n",
    "    # save file to disk based on its link\n",
    "    with open(os.path.basename(link), 'wb') as f:\n",
    "        # save content to fiile\n",
    "        f.write(r.content)"
   ]
  },
  {
   "cell_type": "code",
   "execution_count": null,
   "metadata": {},
   "outputs": [],
   "source": []
  }
 ],
 "metadata": {
  "kernelspec": {
   "display_name": "Python 3",
   "language": "python",
   "name": "python3"
  },
  "language_info": {
   "codemirror_mode": {
    "name": "ipython",
    "version": 3
   },
   "file_extension": ".py",
   "mimetype": "text/x-python",
   "name": "python",
   "nbconvert_exporter": "python",
   "pygments_lexer": "ipython3",
   "version": "3.8.3"
  }
 },
 "nbformat": 4,
 "nbformat_minor": 4
}
